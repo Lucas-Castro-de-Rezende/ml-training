{
 "cells": [
  {
   "cell_type": "raw",
   "id": "b7e9298f-00a6-4f21-8d35-7e85dbb85a3a",
   "metadata": {},
   "source": [
    "## Parte 1: vetorização\n",
    "\n",
    "1. Faça uma função que receba dois arrays como parâmetro e calcule o MSE (mean squared error) entre eles\n",
    "2. Faça uma função que receba dois arrays como parâmetro e calcule o MAE (mean absolute error) entre eles"
   ]
  },
  {
   "cell_type": "code",
   "execution_count": 1,
   "id": "30ce22ed-db8c-43f5-bde8-3edfb3e8dc3b",
   "metadata": {},
   "outputs": [
    {
     "name": "stdout",
     "output_type": "stream",
     "text": [
      "MSE: 5.0\n",
      "MAE: 2.0\n"
     ]
    }
   ],
   "source": [
    "import numpy as np\n",
    "\n",
    "y = np.array([1, 2, 3, 4, 5, 6])\n",
    "y_hat = np.array([5, 4, 2, 6, 7, 5])\n",
    "\n",
    "mse = (1 / y.size) * sum((y - y_hat)**2)\n",
    "mae = (1 / y.size) * sum(abs(y - y_hat))\n",
    "print(\"MSE:\", mse)\n",
    "print(\"MAE:\", mae)"
   ]
  },
  {
   "cell_type": "raw",
   "id": "69a7ebef-fb6b-4039-886e-c03d2726c48e",
   "metadata": {},
   "source": [
    "# Parte 2: carregando arquivos e usando a lib\n",
    "\n",
    "1. Dentro da pasta dados existe um arquivo chamado metricas.rar. Nesse .rar você encontra uma série de arquivos .dat que pussui resultados de diferentes métricas. Seu objetivo aqui é carregar todos esses arquivos e calcular a matriz de correlação entre as métricas.\n",
    "\n",
    "Dicas:\n",
    "- Você conhece a matriz de correlação? Não? Estou sugiro que leia esse post (https://datascience.eu/pt/matematica-e-estatistica/o-que-e-uma-matriz-de-correlacao/) para entender mais sobre ou veja este vídeo (https://www.youtube.com/watch?v=JVVBaW14s0U&ab_channel=CanalPesquise)\n",
    "- Não sabe o que usar na NumPy? De uma olhada na documentação (https://numpy.org/doc/stable/reference/routines.html)"
   ]
  },
  {
   "cell_type": "code",
   "execution_count": 23,
   "id": "c534d16b-7d4a-4de8-aa3e-214b6cc8d9ea",
   "metadata": {},
   "outputs": [
    {
     "name": "stdout",
     "output_type": "stream",
     "text": [
      "[[1.         0.69010372 0.45352531 ... 0.69785    0.57752844 0.26098201]\n",
      " [0.69010372 1.         0.51681446 ... 0.8949475  0.74587594 0.53090209]\n",
      " [0.45352531 0.51681446 1.         ... 0.65153797 0.47423001 0.25330423]\n",
      " ...\n",
      " [0.69785    0.8949475  0.65153797 ... 1.         0.73799085 0.4984417 ]\n",
      " [0.57752844 0.74587594 0.47423001 ... 0.73799085 1.         0.35553814]\n",
      " [0.26098201 0.53090209 0.25330423 ... 0.4984417  0.35553814 1.        ]]\n"
     ]
    }
   ],
   "source": [
    "import numpy as np\n",
    "import os\n",
    "\n",
    "data_path = 'metricas'\n",
    "metrics = list()\n",
    "for filename in os.listdir(data_path):\n",
    "    f = os.path.join(data_path, filename)\n",
    "    # checking if it is a file\n",
    "    if os.path.isfile(f):\n",
    "        metric = np.loadtxt(data_path + '/' + filename)\n",
    "        metrics.append(metric)\n",
    "\n",
    "\n",
    "np.array(metrics)\n",
    "corr_matrix = np.corrcoef(metrics)\n",
    "\n",
    "np.savetxt(\"correlation_matrix.csv\", corr_matrix, delimiter=\",\", fmt='%.3f')\n",
    "print(corr_matrix)"
   ]
  }
 ],
 "metadata": {
  "kernelspec": {
   "display_name": "Python 3 (ipykernel)",
   "language": "python",
   "name": "python3"
  },
  "language_info": {
   "codemirror_mode": {
    "name": "ipython",
    "version": 3
   },
   "file_extension": ".py",
   "mimetype": "text/x-python",
   "name": "python",
   "nbconvert_exporter": "python",
   "pygments_lexer": "ipython3",
   "version": "3.9.7"
  }
 },
 "nbformat": 4,
 "nbformat_minor": 5
}
